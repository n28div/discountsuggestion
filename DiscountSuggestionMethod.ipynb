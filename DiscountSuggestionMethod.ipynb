{
  "nbformat": 4,
  "nbformat_minor": 0,
  "metadata": {
    "colab": {
      "provenance": [],
      "collapsed_sections": []
    },
    "kernelspec": {
      "name": "ir",
      "display_name": "R"
    },
    "language_info": {
      "name": "R"
    }
  },
  "cells": [
    {
      "cell_type": "code",
      "execution_count": 1,
      "metadata": {
        "colab": {
          "base_uri": "https://localhost:8080/"
        },
        "id": "pWI3Fz5YfD6-",
        "outputId": "2877beb7-89e4-40e2-fb2e-293c9fd653f5"
      },
      "outputs": [
        {
          "output_type": "stream",
          "name": "stderr",
          "text": [
            "Installing package into ‘/usr/local/lib/R/site-library’\n",
            "(as ‘lib’ is unspecified)\n",
            "\n",
            "also installing the dependencies ‘fastmatch’, ‘checkmate’\n",
            "\n",
            "\n",
            "Installing package into ‘/usr/local/lib/R/site-library’\n",
            "(as ‘lib’ is unspecified)\n",
            "\n",
            "also installing the dependency ‘SnowballC’\n",
            "\n",
            "\n",
            "Loading required package: SnowballC\n",
            "\n",
            "Installing package into ‘/usr/local/lib/R/site-library’\n",
            "(as ‘lib’ is unspecified)\n",
            "\n",
            "also installing the dependencies ‘NLP’, ‘Rcpp’, ‘slam’, ‘BH’\n",
            "\n",
            "\n",
            "Loading required package: NLP\n",
            "\n",
            "Installing package into ‘/usr/local/lib/R/site-library’\n",
            "(as ‘lib’ is unspecified)\n",
            "\n",
            "also installing the dependencies ‘RWekajars’, ‘rJava’\n",
            "\n",
            "\n",
            "\n",
            "Attaching package: ‘dplyr’\n",
            "\n",
            "\n",
            "The following objects are masked from ‘package:data.table’:\n",
            "\n",
            "    between, first, last\n",
            "\n",
            "\n",
            "The following objects are masked from ‘package:stats’:\n",
            "\n",
            "    filter, lag\n",
            "\n",
            "\n",
            "The following objects are masked from ‘package:base’:\n",
            "\n",
            "    intersect, setdiff, setequal, union\n",
            "\n",
            "\n"
          ]
        }
      ],
      "source": [
        "install.packages(\"install.load\")\n",
        "library(install.load)\n",
        "\n",
        "install_load(\"xml2\")\n",
        "install_load(\"data.table\")\n",
        "install_load(\"lsa\")\n",
        "install_load(\"tm\")\n",
        "install_load(\"RWeka\")\n",
        "install_load(\"scales\")\n",
        "install_load(\"readxl\")\n",
        "install_load(\"dplyr\")"
      ]
    },
    {
      "cell_type": "markdown",
      "source": [
        "# Discount retrieval based on customers and descriptions\n",
        "\n",
        "In the following sections we will show a method to retrieve discount rates for products based on previous transactions. While it may seems a trivial task at first, we need to take into account the fact that most of the times discounting is not performed in a structured way with estabileshed rules but rather on the basis of the product and the client that is buying it. Businesses may decide for lower or higher prices depending on the client, for instance.\n"
      ],
      "metadata": {
        "id": "8LiyKYgBidVq"
      }
    },
    {
      "cell_type": "markdown",
      "source": [
        "## Dataset\n",
        "\n",
        "Data is obtained from a the famous Superstore dataset, bundled with Tableu visualization software.\n",
        "\n",
        "The dataset is obtained from https://danguetta.github.io/research/globalsuperstore."
      ],
      "metadata": {
        "id": "DDYsQtLCiiZt"
      }
    },
    {
      "cell_type": "code",
      "source": [
        "system(\"wget https://danguetta.github.io/files/research/globalsuperstore/GlobalSuperstore.xls\")\n",
        "data <- data.frame(read_excel(\"./GlobalSuperstore.xls\"))"
      ],
      "metadata": {
        "id": "639jiI6m83XL"
      },
      "execution_count": 2,
      "outputs": []
    },
    {
      "cell_type": "markdown",
      "source": [
        "## Searching for a similar document\n",
        "\n",
        "Let's first find a way to search for similar documents given a query."
      ],
      "metadata": {
        "id": "_tq_lyzPil-W"
      }
    },
    {
      "cell_type": "code",
      "source": [
        "descriptions <- data$Product.Name\n",
        "head(descriptions)"
      ],
      "metadata": {
        "colab": {
          "base_uri": "https://localhost:8080/",
          "height": 52
        },
        "id": "hJ62QefGiXqE",
        "outputId": "6e7593d4-de25-4b25-8149-10908bfec73d"
      },
      "execution_count": 3,
      "outputs": [
        {
          "output_type": "display_data",
          "data": {
            "text/html": [
              "<style>\n",
              ".list-inline {list-style: none; margin:0; padding: 0}\n",
              ".list-inline>li {display: inline-block}\n",
              ".list-inline>li:not(:last-child)::after {content: \"\\00b7\"; padding: 0 .5ex}\n",
              "</style>\n",
              "<ol class=list-inline><li>'Plantronics CS510 - Over-the-Head monaural Wireless Headset System'</li><li>'Novimex Executive Leather Armchair, Black'</li><li>'Nokia Smart Phone, with Caller ID'</li><li>'Motorola Smart Phone, Cordless'</li><li>'Sharp Wireless Fax, High-Speed'</li><li>'Samsung Smart Phone, with Caller ID'</li></ol>\n"
            ],
            "text/markdown": "1. 'Plantronics CS510 - Over-the-Head monaural Wireless Headset System'\n2. 'Novimex Executive Leather Armchair, Black'\n3. 'Nokia Smart Phone, with Caller ID'\n4. 'Motorola Smart Phone, Cordless'\n5. 'Sharp Wireless Fax, High-Speed'\n6. 'Samsung Smart Phone, with Caller ID'\n\n\n",
            "text/latex": "\\begin{enumerate*}\n\\item 'Plantronics CS510 - Over-the-Head monaural Wireless Headset System'\n\\item 'Novimex Executive Leather Armchair, Black'\n\\item 'Nokia Smart Phone, with Caller ID'\n\\item 'Motorola Smart Phone, Cordless'\n\\item 'Sharp Wireless Fax, High-Speed'\n\\item 'Samsung Smart Phone, with Caller ID'\n\\end{enumerate*}\n",
            "text/plain": [
              "[1] \"Plantronics CS510 - Over-the-Head monaural Wireless Headset System\"\n",
              "[2] \"Novimex Executive Leather Armchair, Black\"                         \n",
              "[3] \"Nokia Smart Phone, with Caller ID\"                                 \n",
              "[4] \"Motorola Smart Phone, Cordless\"                                    \n",
              "[5] \"Sharp Wireless Fax, High-Speed\"                                    \n",
              "[6] \"Samsung Smart Phone, with Caller ID\"                               "
            ]
          },
          "metadata": {}
        }
      ]
    },
    {
      "cell_type": "markdown",
      "source": [
        "We can use those descriptions to build a term-document matrix. First we will preprocess the dataset by lowering the text, removing punctuation, stopwords, numbers and symbols."
      ],
      "metadata": {
        "id": "59_xdORkipoy"
      }
    },
    {
      "cell_type": "code",
      "source": [
        "preprocessDescriptions <- function(descriptions) {\n",
        "  corpus <- Corpus(VectorSource(descriptions))\n",
        "  corpus <- tm_map(corpus, tolower)\n",
        "  corpus <- tm_map(corpus, removePunctuation)\n",
        "  corpus <- tm_map(corpus, removeWords, stopwords(\"en\"))\n",
        "  corpus <- tm_map(corpus, removeNumbers)\n",
        "  \n",
        "  # remove consecutive spaces\n",
        "  consecutiveSpacesRe <- \"\\\\s+\"\n",
        "  corpus <- tm_map(corpus, function(d) { gsub(consecutiveSpacesRe, \" \", d) })\n",
        "  \n",
        "  # trim spaces\n",
        "  trimRe <- \"^\\\\s+|\\\\s+$\"\n",
        "  corpus <- tm_map(corpus, function(d) { gsub(trimRe, \"\", d) })\n",
        "\n",
        "  return(corpus)\n",
        "}\n",
        "\n",
        "corpus <- preprocessDescriptions(descriptions)\n",
        "head(corpus$content)"
      ],
      "metadata": {
        "colab": {
          "base_uri": "https://localhost:8080/",
          "height": 243
        },
        "id": "y116ESTliq1X",
        "outputId": "0de2d783-2c4e-4563-9263-4d31605c8b1d"
      },
      "execution_count": 4,
      "outputs": [
        {
          "output_type": "stream",
          "name": "stderr",
          "text": [
            "Warning message in tm_map.SimpleCorpus(corpus, tolower):\n",
            "“transformation drops documents”\n",
            "Warning message in tm_map.SimpleCorpus(corpus, removePunctuation):\n",
            "“transformation drops documents”\n",
            "Warning message in tm_map.SimpleCorpus(corpus, removeWords, stopwords(\"en\")):\n",
            "“transformation drops documents”\n",
            "Warning message in tm_map.SimpleCorpus(corpus, removeNumbers):\n",
            "“transformation drops documents”\n",
            "Warning message in tm_map.SimpleCorpus(corpus, function(d) {:\n",
            "“transformation drops documents”\n",
            "Warning message in tm_map.SimpleCorpus(corpus, function(d) {:\n",
            "“transformation drops documents”\n"
          ]
        },
        {
          "output_type": "display_data",
          "data": {
            "text/html": [
              "<style>\n",
              ".list-inline {list-style: none; margin:0; padding: 0}\n",
              ".list-inline>li {display: inline-block}\n",
              ".list-inline>li:not(:last-child)::after {content: \"\\00b7\"; padding: 0 .5ex}\n",
              "</style>\n",
              "<ol class=list-inline><li>'plantronics cs overthehead monaural wireless headset system'</li><li>'novimex executive leather armchair black'</li><li>'nokia smart phone caller id'</li><li>'motorola smart phone cordless'</li><li>'sharp wireless fax highspeed'</li><li>'samsung smart phone caller id'</li></ol>\n"
            ],
            "text/markdown": "1. 'plantronics cs overthehead monaural wireless headset system'\n2. 'novimex executive leather armchair black'\n3. 'nokia smart phone caller id'\n4. 'motorola smart phone cordless'\n5. 'sharp wireless fax highspeed'\n6. 'samsung smart phone caller id'\n\n\n",
            "text/latex": "\\begin{enumerate*}\n\\item 'plantronics cs overthehead monaural wireless headset system'\n\\item 'novimex executive leather armchair black'\n\\item 'nokia smart phone caller id'\n\\item 'motorola smart phone cordless'\n\\item 'sharp wireless fax highspeed'\n\\item 'samsung smart phone caller id'\n\\end{enumerate*}\n",
            "text/plain": [
              "[1] \"plantronics cs overthehead monaural wireless headset system\"\n",
              "[2] \"novimex executive leather armchair black\"                   \n",
              "[3] \"nokia smart phone caller id\"                                \n",
              "[4] \"motorola smart phone cordless\"                              \n",
              "[5] \"sharp wireless fax highspeed\"                               \n",
              "[6] \"samsung smart phone caller id\"                              "
            ]
          },
          "metadata": {}
        }
      ]
    },
    {
      "cell_type": "markdown",
      "source": [
        "We can now build a term-document matrix based on the preprocessed dataset.\n"
      ],
      "metadata": {
        "id": "VHkCS_Yci1UQ"
      }
    },
    {
      "cell_type": "code",
      "source": [
        "tdm <- TermDocumentMatrix(corpus)\n",
        "tdm"
      ],
      "metadata": {
        "colab": {
          "base_uri": "https://localhost:8080/",
          "height": 104
        },
        "id": "T4SvJUoqiviS",
        "outputId": "91f91449-82e9-4fdb-dd1c-890c2f54dbf8"
      },
      "execution_count": 5,
      "outputs": [
        {
          "output_type": "display_data",
          "data": {
            "text/plain": [
              "<<TermDocumentMatrix (terms: 2041, documents: 51290)>>\n",
              "Non-/sparse entries: 211625/104471265\n",
              "Sparsity           : 100%\n",
              "Maximal term length: 23\n",
              "Weighting          : term frequency (tf)"
            ]
          },
          "metadata": {}
        }
      ]
    },
    {
      "cell_type": "markdown",
      "source": [
        "As we can see the matrix is really sparse. A lot of terms in the matrix are only used in few documents.\n",
        "\n",
        "We would like to keep only those terms that are appearing in at least $2$ documents, otherwise they wouldn't bring any added value to the document description. This means that, given $N$ as the number of documents, we only want to keep terms whose sparsity is at most $1 - \\frac{2}{N}$."
      ],
      "metadata": {
        "id": "fW1EGRqHi5WI"
      }
    },
    {
      "cell_type": "code",
      "source": [
        "maxSparsity <- 1 - 2/tdm$nrow\n",
        "tdm <- removeSparseTerms(tdm, maxSparsity)\n",
        "tdm"
      ],
      "metadata": {
        "colab": {
          "base_uri": "https://localhost:8080/",
          "height": 104
        },
        "id": "HWq2P0jYi3Ol",
        "outputId": "54ece7e9-7152-41df-b4b8-779b749b5222"
      },
      "execution_count": 6,
      "outputs": [
        {
          "output_type": "display_data",
          "data": {
            "text/plain": [
              "<<TermDocumentMatrix (terms: 374, documents: 51290)>>\n",
              "Non-/sparse entries: 194542/18987918\n",
              "Sparsity           : 99%\n",
              "Maximal term length: 14\n",
              "Weighting          : term frequency (tf)"
            ]
          },
          "metadata": {}
        }
      ]
    },
    {
      "cell_type": "markdown",
      "source": [
        "Indeed we end up removing a lot of terms.\n",
        "\n",
        "We will compute each term representation by using TF-IDF in order to give more importance to rare terms that often carry more semantically relevant information compared to common terms."
      ],
      "metadata": {
        "id": "hN_vpYi8i--Y"
      }
    },
    {
      "cell_type": "code",
      "source": [
        "tdm.terms <- rownames(tdm)\n",
        "tdm.m <- as.matrix(tdm)\n",
        "\n",
        "# TF-IDF application\n",
        "tdm.m <- lw_logtf(tdm.m) * ( 1 - entropy(tdm.m))"
      ],
      "metadata": {
        "id": "I8uUVB6-i7oq"
      },
      "execution_count": 7,
      "outputs": []
    },
    {
      "cell_type": "markdown",
      "source": [
        "### Searching in the lexical space\n",
        "\n",
        "Let's say we want to search documents related to  *book shelf*. We can do that by directly turning the search query into a document first.\n"
      ],
      "metadata": {
        "id": "LAfG40pXjCqu"
      }
    },
    {
      "cell_type": "code",
      "source": [
        "tdm.makequery <- function(text) {\n",
        "  q <- query(text, tdm.terms)\n",
        "  return(as.vector(lw_logtf(q) * ( 1-entropy(tdm.m))))\n",
        "}\n",
        "\n",
        "query.text <- \"book shelf\"\n",
        "query <- tdm.makequery(query.text)"
      ],
      "metadata": {
        "id": "5m5g5G0SjB_9"
      },
      "execution_count": 8,
      "outputs": []
    },
    {
      "cell_type": "markdown",
      "source": [
        "And compute the cosine similarity between the query and the documents."
      ],
      "metadata": {
        "id": "1tqc9oSgjHy4"
      }
    },
    {
      "cell_type": "code",
      "source": [
        "top <- function(n, ...) order(..., decreasing = T)[1:n]\n",
        "\n",
        "sim.docs <- apply(tdm.m, 2, cosine, as.vector(query))\n",
        "df <- data.frame(description=corpus$content, similarity=sim.docs)\n",
        "# remove duplicated descriptions\n",
        "df <- df %>% group_by(description) %>% slice_sample(n = 1)\n",
        "\n",
        "top10 <- top(10, df$similarity)\n",
        "df[top10,]"
      ],
      "metadata": {
        "colab": {
          "base_uri": "https://localhost:8080/",
          "height": 412
        },
        "id": "wBvoz8KxjF0N",
        "outputId": "0d9e17c6-47dd-4221-b040-a366a76cee73"
      },
      "execution_count": 9,
      "outputs": [
        {
          "output_type": "display_data",
          "data": {
            "text/html": [
              "<table class=\"dataframe\">\n",
              "<caption>A grouped_df: 10 × 2</caption>\n",
              "<thead>\n",
              "\t<tr><th scope=col>description</th><th scope=col>similarity</th></tr>\n",
              "\t<tr><th scope=col>&lt;chr&gt;</th><th scope=col>&lt;dbl&gt;</th></tr>\n",
              "</thead>\n",
              "<tbody>\n",
              "\t<tr><td>avoid verbal orders carbonless minifold book                                  </td><td>0.8223031</td></tr>\n",
              "\t<tr><td>things today spiral book                                                      </td><td>0.8223031</td></tr>\n",
              "\t<tr><td>black print carbonless x rapid memo book                                      </td><td>0.5901705</td></tr>\n",
              "\t<tr><td>adams telephone message book wfrequentlycalled numbers space messages per book</td><td>0.5289688</td></tr>\n",
              "\t<tr><td>message book wirebound four x formspg dupl setsbook                           </td><td>0.5004628</td></tr>\n",
              "\t<tr><td>wirebound voice message log book                                              </td><td>0.5004628</td></tr>\n",
              "\t<tr><td>adams write n stick phone message book x messages                             </td><td>0.4549196</td></tr>\n",
              "\t<tr><td>recycled desk saver line book x                                               </td><td>0.4468044</td></tr>\n",
              "\t<tr><td>memo book message capacity ” x ”                                              </td><td>0.4443944</td></tr>\n",
              "\t<tr><td>tops money receipt book consecutively numbered red                            </td><td>0.4405610</td></tr>\n",
              "</tbody>\n",
              "</table>\n"
            ],
            "text/markdown": "\nA grouped_df: 10 × 2\n\n| description &lt;chr&gt; | similarity &lt;dbl&gt; |\n|---|---|\n| avoid verbal orders carbonless minifold book                                   | 0.8223031 |\n| things today spiral book                                                       | 0.8223031 |\n| black print carbonless x rapid memo book                                       | 0.5901705 |\n| adams telephone message book wfrequentlycalled numbers space messages per book | 0.5289688 |\n| message book wirebound four x formspg dupl setsbook                            | 0.5004628 |\n| wirebound voice message log book                                               | 0.5004628 |\n| adams write n stick phone message book x messages                              | 0.4549196 |\n| recycled desk saver line book x                                                | 0.4468044 |\n| memo book message capacity ” x ”                                               | 0.4443944 |\n| tops money receipt book consecutively numbered red                             | 0.4405610 |\n\n",
            "text/latex": "A grouped\\_df: 10 × 2\n\\begin{tabular}{ll}\n description & similarity\\\\\n <chr> & <dbl>\\\\\n\\hline\n\t avoid verbal orders carbonless minifold book                                   & 0.8223031\\\\\n\t things today spiral book                                                       & 0.8223031\\\\\n\t black print carbonless x rapid memo book                                       & 0.5901705\\\\\n\t adams telephone message book wfrequentlycalled numbers space messages per book & 0.5289688\\\\\n\t message book wirebound four x formspg dupl setsbook                            & 0.5004628\\\\\n\t wirebound voice message log book                                               & 0.5004628\\\\\n\t adams write n stick phone message book x messages                              & 0.4549196\\\\\n\t recycled desk saver line book x                                                & 0.4468044\\\\\n\t memo book message capacity ” x ”                                               & 0.4443944\\\\\n\t tops money receipt book consecutively numbered red                             & 0.4405610\\\\\n\\end{tabular}\n",
            "text/plain": [
              "   description                                                                   \n",
              "1  avoid verbal orders carbonless minifold book                                  \n",
              "2  things today spiral book                                                      \n",
              "3  black print carbonless x rapid memo book                                      \n",
              "4  adams telephone message book wfrequentlycalled numbers space messages per book\n",
              "5  message book wirebound four x formspg dupl setsbook                           \n",
              "6  wirebound voice message log book                                              \n",
              "7  adams write n stick phone message book x messages                             \n",
              "8  recycled desk saver line book x                                               \n",
              "9  memo book message capacity ” x ”                                              \n",
              "10 tops money receipt book consecutively numbered red                            \n",
              "   similarity\n",
              "1  0.8223031 \n",
              "2  0.8223031 \n",
              "3  0.5901705 \n",
              "4  0.5289688 \n",
              "5  0.5004628 \n",
              "6  0.5004628 \n",
              "7  0.4549196 \n",
              "8  0.4468044 \n",
              "9  0.4443944 \n",
              "10 0.4405610 "
            ]
          },
          "metadata": {}
        }
      ]
    },
    {
      "cell_type": "markdown",
      "source": [
        "Indeed we end up with lots of results mentioning books but none of them is about shelf, even though the cosine similarity is pretty high.\n"
      ],
      "metadata": {
        "id": "EtM4JAYejMnS"
      }
    },
    {
      "cell_type": "markdown",
      "source": [
        "### Searching in the latent semantical space\n",
        "\n",
        "By exploiting Latent Semantic Analysis (LSA) we can try to extract semantic information from documents and try to search in that space, rather than the lexical one. This will give us more chances in retrieving documents based on their semantic rather than on their lexical structure.\n",
        "\n",
        "We will first of all approximate the matrix in a low-rank matrix."
      ],
      "metadata": {
        "id": "2w0FsYT5jO0_"
      }
    },
    {
      "cell_type": "code",
      "source": [
        "tdm.lsa <- lsa(tdm.m)"
      ],
      "metadata": {
        "colab": {
          "base_uri": "https://localhost:8080/"
        },
        "id": "m66aHUYljJfN",
        "outputId": "b5232ff4-3db4-4b19-91ea-8dd05f408012"
      },
      "execution_count": 10,
      "outputs": [
        {
          "output_type": "stream",
          "name": "stderr",
          "text": [
            "Warning message in lsa(tdm.m):\n",
            "“[lsa] - there are singular values which are zero.”\n"
          ]
        }
      ]
    },
    {
      "cell_type": "code",
      "source": [
        "options(repr.plot.width=20, repr.plot.height=8)\n",
        "plot(1:length(tdm.lsa$sk), tdm.lsa$sk, \n",
        "     type=\"b\",\n",
        "     xlab=\"Eigenvalues\", \n",
        "     ylab=\"Absolute value\")"
      ],
      "metadata": {
        "colab": {
          "base_uri": "https://localhost:8080/",
          "height": 497
        },
        "id": "mH-T3pu3jRg_",
        "outputId": "d53a4152-8b6e-4826-9fdc-eab040937bdb"
      },
      "execution_count": 11,
      "outputs": [
        {
          "output_type": "display_data",
          "data": {
            "text/plain": [
              "plot without title"
            ],
            "image/png": "[encoded data removed]"
          },
          "metadata": {
            "image/png": {
              "width": 1200,
              "height": 480
            }
          }
        }
      ]
    },
    {
      "cell_type": "markdown",
      "source": [
        "As one would expect, most information variance seems to be contained in the first eigenvectors of the document's and term's latent space.\n",
        "\n",
        "We can search for similar documents by folding the query into the latent space by using $q^T U$ then computing the cosine similarity between the query\n"
      ],
      "metadata": {
        "id": "c0ClVe0Ulf6q"
      }
    },
    {
      "cell_type": "code",
      "source": [
        "query <- query(query.text, rownames(tdm))\n",
        "query.ls <- as.vector(t(query) %*% tdm.lsa$tk)\n",
        "\n",
        "sim.docs <- apply(tdm.lsa$dk, 1, cosine, query.ls)\n",
        "df <- data.frame(description=corpus$content, similarity=sim.docs)\n",
        "# remove duplicated descriptions\n",
        "df <- df %>% group_by(description) %>% slice_sample(n = 1)\n",
        "\n",
        "top10 <- top(10, df$similarity)\n",
        "df[top10,]"
      ],
      "metadata": {
        "colab": {
          "base_uri": "https://localhost:8080/",
          "height": 412
        },
        "id": "AJcJ0sj3lgTw",
        "outputId": "b834a74d-499f-40da-ed4d-4ed340ee93c0"
      },
      "execution_count": 12,
      "outputs": [
        {
          "output_type": "display_data",
          "data": {
            "text/html": [
              "<table class=\"dataframe\">\n",
              "<caption>A grouped_df: 10 × 2</caption>\n",
              "<thead>\n",
              "\t<tr><th scope=col>description</th><th scope=col>similarity</th></tr>\n",
              "\t<tr><th scope=col>&lt;chr&gt;</th><th scope=col>&lt;dbl&gt;</th></tr>\n",
              "</thead>\n",
              "<tbody>\n",
              "\t<tr><td>osullivan living dimensions shelf bookcases</td><td>0.9348726</td></tr>\n",
              "\t<tr><td>osullivan shelf heavyduty bookcases        </td><td>0.9251164</td></tr>\n",
              "\t<tr><td>ikea shelf cabinet traditional             </td><td>0.9114407</td></tr>\n",
              "\t<tr><td>dania shelf cabinet traditional            </td><td>0.8980754</td></tr>\n",
              "\t<tr><td>sauder shelf cabinet traditional           </td><td>0.8955717</td></tr>\n",
              "\t<tr><td>ikea shelf cabinet mobile                  </td><td>0.8949120</td></tr>\n",
              "\t<tr><td>bush shelf cabinet traditional             </td><td>0.8928963</td></tr>\n",
              "\t<tr><td>ikea shelf cabinet pine                    </td><td>0.8811897</td></tr>\n",
              "\t<tr><td>sauder shelf cabinet pine                  </td><td>0.8757414</td></tr>\n",
              "\t<tr><td>dania shelf cabinet mobile                 </td><td>0.8754056</td></tr>\n",
              "</tbody>\n",
              "</table>\n"
            ],
            "text/markdown": "\nA grouped_df: 10 × 2\n\n| description &lt;chr&gt; | similarity &lt;dbl&gt; |\n|---|---|\n| osullivan living dimensions shelf bookcases | 0.9348726 |\n| osullivan shelf heavyduty bookcases         | 0.9251164 |\n| ikea shelf cabinet traditional              | 0.9114407 |\n| dania shelf cabinet traditional             | 0.8980754 |\n| sauder shelf cabinet traditional            | 0.8955717 |\n| ikea shelf cabinet mobile                   | 0.8949120 |\n| bush shelf cabinet traditional              | 0.8928963 |\n| ikea shelf cabinet pine                     | 0.8811897 |\n| sauder shelf cabinet pine                   | 0.8757414 |\n| dania shelf cabinet mobile                  | 0.8754056 |\n\n",
            "text/latex": "A grouped\\_df: 10 × 2\n\\begin{tabular}{ll}\n description & similarity\\\\\n <chr> & <dbl>\\\\\n\\hline\n\t osullivan living dimensions shelf bookcases & 0.9348726\\\\\n\t osullivan shelf heavyduty bookcases         & 0.9251164\\\\\n\t ikea shelf cabinet traditional              & 0.9114407\\\\\n\t dania shelf cabinet traditional             & 0.8980754\\\\\n\t sauder shelf cabinet traditional            & 0.8955717\\\\\n\t ikea shelf cabinet mobile                   & 0.8949120\\\\\n\t bush shelf cabinet traditional              & 0.8928963\\\\\n\t ikea shelf cabinet pine                     & 0.8811897\\\\\n\t sauder shelf cabinet pine                   & 0.8757414\\\\\n\t dania shelf cabinet mobile                  & 0.8754056\\\\\n\\end{tabular}\n",
            "text/plain": [
              "   description                                 similarity\n",
              "1  osullivan living dimensions shelf bookcases 0.9348726 \n",
              "2  osullivan shelf heavyduty bookcases         0.9251164 \n",
              "3  ikea shelf cabinet traditional              0.9114407 \n",
              "4  dania shelf cabinet traditional             0.8980754 \n",
              "5  sauder shelf cabinet traditional            0.8955717 \n",
              "6  ikea shelf cabinet mobile                   0.8949120 \n",
              "7  bush shelf cabinet traditional              0.8928963 \n",
              "8  ikea shelf cabinet pine                     0.8811897 \n",
              "9  sauder shelf cabinet pine                   0.8757414 \n",
              "10 dania shelf cabinet mobile                  0.8754056 "
            ]
          },
          "metadata": {}
        }
      ]
    },
    {
      "cell_type": "markdown",
      "source": [
        "If we compute the similarity on the semantic space we end up with much more meaningful results. In order to improve the result we might try to reduce the number of dimensions of the latent space. By doing that we would hopefully end up removing some noise from the latent space. We will select the number of dimensions by examining the (local) minimums of the curvature function $\\frac{f(x)''}{(1 + f(x)')^{\\frac{3}{2}}}$"
      ],
      "metadata": {
        "id": "SbHsY11-loPu"
      }
    },
    {
      "cell_type": "code",
      "source": [
        "# we will compute derivates by using forward difference approximation\n",
        "derivative <- function(x) x[2:length(x)] - x[1:(length(x)-1)]\n",
        "\n",
        "s1 <- derivative(tdm.lsa$sk)\n",
        "s2 <- derivative(s1)\n",
        "\n",
        "curv <- s2 / (1 + s1^2)^(3 / 2)\n",
        "plot(1:20, curv[1:20], type=\"b\", main=\"Singular values curvature function\")"
      ],
      "metadata": {
        "colab": {
          "base_uri": "https://localhost:8080/",
          "height": 532
        },
        "id": "HN6WqF5llkWe",
        "outputId": "71960be0-1771-44a6-9f03-71e743f132ce"
      },
      "execution_count": 13,
      "outputs": [
        {
          "output_type": "stream",
          "name": "stderr",
          "text": [
            "Warning message in s2/(1 + s1^2)^(3/2):\n",
            "“longer object length is not a multiple of shorter object length”\n"
          ]
        },
        {
          "output_type": "display_data",
          "data": {
            "text/plain": [
              "Plot with title “Singular values curvature function”"
            ],
            "image/png": "[encoded data removed]"
          },
          "metadata": {
            "image/png": {
              "width": 1200,
              "height": 480
            }
          }
        }
      ]
    },
    {
      "cell_type": "markdown",
      "source": [
        "We can see we have a local minima on the $3rd$ singular value. However, from plotting all the eigenvalues we've seen that most data is contained in the first 20-ish dimensions. Taking too few eigenvectors will probably yield bad results, because of a huge loss of information."
      ],
      "metadata": {
        "id": "dhR3ox67lvl5"
      }
    },
    {
      "cell_type": "code",
      "source": [
        "sim.docs <- apply(tdm.lsa$dk[,1:3], 1, cosine, query.ls[1:3])\n",
        "df <- data.frame(description=corpus$content, similarity=sim.docs)\n",
        "# remove duplicated descriptions\n",
        "df <- df %>% group_by(description) %>% slice_sample(n = 1)\n",
        "\n",
        "top10 <- top(10, df$similarity)\n",
        "df[top10,]"
      ],
      "metadata": {
        "colab": {
          "base_uri": "https://localhost:8080/",
          "height": 412
        },
        "id": "1eZToQSSlr99",
        "outputId": "67aede70-4845-4714-c1c8-7dbc38fe52c7"
      },
      "execution_count": 14,
      "outputs": [
        {
          "output_type": "display_data",
          "data": {
            "text/html": [
              "<table class=\"dataframe\">\n",
              "<caption>A grouped_df: 10 × 2</caption>\n",
              "<thead>\n",
              "\t<tr><th scope=col>description</th><th scope=col>similarity</th></tr>\n",
              "\t<tr><th scope=col>&lt;chr&gt;</th><th scope=col>&lt;dbl&gt;</th></tr>\n",
              "</thead>\n",
              "<tbody>\n",
              "\t<tr><td>panasonic calculator red                             </td><td>0.9998306</td></tr>\n",
              "\t<tr><td>safco planmaster boards w x d white melamine         </td><td>0.9995739</td></tr>\n",
              "\t<tr><td>ikea shelf cabinet metal                             </td><td>0.9995249</td></tr>\n",
              "\t<tr><td>tops money receipt book consecutively numbered red   </td><td>0.9995242</td></tr>\n",
              "\t<tr><td>panasonic phone red                                  </td><td>0.9995054</td></tr>\n",
              "\t<tr><td>panasonic inkjet red                                 </td><td>0.9994299</td></tr>\n",
              "\t<tr><td>bush shelf cabinet metal                             </td><td>0.9993959</td></tr>\n",
              "\t<tr><td>okidata calculator red                               </td><td>0.9993632</td></tr>\n",
              "\t<tr><td>sauder shelf cabinet metal                           </td><td>0.9993549</td></tr>\n",
              "\t<tr><td>holmes replacement filter hepa air cleaner large room</td><td>0.9992988</td></tr>\n",
              "</tbody>\n",
              "</table>\n"
            ],
            "text/markdown": "\nA grouped_df: 10 × 2\n\n| description &lt;chr&gt; | similarity &lt;dbl&gt; |\n|---|---|\n| panasonic calculator red                              | 0.9998306 |\n| safco planmaster boards w x d white melamine          | 0.9995739 |\n| ikea shelf cabinet metal                              | 0.9995249 |\n| tops money receipt book consecutively numbered red    | 0.9995242 |\n| panasonic phone red                                   | 0.9995054 |\n| panasonic inkjet red                                  | 0.9994299 |\n| bush shelf cabinet metal                              | 0.9993959 |\n| okidata calculator red                                | 0.9993632 |\n| sauder shelf cabinet metal                            | 0.9993549 |\n| holmes replacement filter hepa air cleaner large room | 0.9992988 |\n\n",
            "text/latex": "A grouped\\_df: 10 × 2\n\\begin{tabular}{ll}\n description & similarity\\\\\n <chr> & <dbl>\\\\\n\\hline\n\t panasonic calculator red                              & 0.9998306\\\\\n\t safco planmaster boards w x d white melamine          & 0.9995739\\\\\n\t ikea shelf cabinet metal                              & 0.9995249\\\\\n\t tops money receipt book consecutively numbered red    & 0.9995242\\\\\n\t panasonic phone red                                   & 0.9995054\\\\\n\t panasonic inkjet red                                  & 0.9994299\\\\\n\t bush shelf cabinet metal                              & 0.9993959\\\\\n\t okidata calculator red                                & 0.9993632\\\\\n\t sauder shelf cabinet metal                            & 0.9993549\\\\\n\t holmes replacement filter hepa air cleaner large room & 0.9992988\\\\\n\\end{tabular}\n",
            "text/plain": [
              "   description                                           similarity\n",
              "1  panasonic calculator red                              0.9998306 \n",
              "2  safco planmaster boards w x d white melamine          0.9995739 \n",
              "3  ikea shelf cabinet metal                              0.9995249 \n",
              "4  tops money receipt book consecutively numbered red    0.9995242 \n",
              "5  panasonic phone red                                   0.9995054 \n",
              "6  panasonic inkjet red                                  0.9994299 \n",
              "7  bush shelf cabinet metal                              0.9993959 \n",
              "8  okidata calculator red                                0.9993632 \n",
              "9  sauder shelf cabinet metal                            0.9993549 \n",
              "10 holmes replacement filter hepa air cleaner large room 0.9992988 "
            ]
          },
          "metadata": {}
        }
      ]
    },
    {
      "cell_type": "markdown",
      "source": [
        "The previous arguments are confirmed by an empirical evaluation, using too few dimensions brings distances between vectors to be extremely close one to another. \n",
        "Let's see however if using the first $11$ dimensions yields better results."
      ],
      "metadata": {
        "id": "M5ZUQ73_5TM4"
      }
    },
    {
      "cell_type": "code",
      "source": [
        "sim.docs <- apply(tdm.lsa$dk[,1:11], 1, cosine, query.ls[1:11])\n",
        "df <- data.frame(description=corpus$content, similarity=sim.docs)\n",
        "# remove duplicated descriptions\n",
        "df <- df %>% group_by(description) %>% slice_sample(n = 1)\n",
        "\n",
        "top10 <- top(10, df$similarity)\n",
        "df[top10,]"
      ],
      "metadata": {
        "colab": {
          "base_uri": "https://localhost:8080/",
          "height": 412
        },
        "id": "_7zvR9605mGj",
        "outputId": "3447069c-cf6f-42fb-d07b-31554477267d"
      },
      "execution_count": 15,
      "outputs": [
        {
          "output_type": "display_data",
          "data": {
            "text/html": [
              "<table class=\"dataframe\">\n",
              "<caption>A grouped_df: 10 × 2</caption>\n",
              "<thead>\n",
              "\t<tr><th scope=col>description</th><th scope=col>similarity</th></tr>\n",
              "\t<tr><th scope=col>&lt;chr&gt;</th><th scope=col>&lt;dbl&gt;</th></tr>\n",
              "</thead>\n",
              "<tbody>\n",
              "\t<tr><td>osullivan living dimensions shelf bookcases         </td><td>0.9891581</td></tr>\n",
              "\t<tr><td>osullivan shelf heavyduty bookcases                 </td><td>0.9877933</td></tr>\n",
              "\t<tr><td>atlantic metals mobile shelf bookcases custom colors</td><td>0.9854500</td></tr>\n",
              "\t<tr><td>ikea shelf cabinet traditional                      </td><td>0.9818388</td></tr>\n",
              "\t<tr><td>bush shelf cabinet traditional                      </td><td>0.9816737</td></tr>\n",
              "\t<tr><td>sauder shelf cabinet traditional                    </td><td>0.9816378</td></tr>\n",
              "\t<tr><td>dania shelf cabinet traditional                     </td><td>0.9814320</td></tr>\n",
              "\t<tr><td>ikea shelf cabinet mobile                           </td><td>0.9813458</td></tr>\n",
              "\t<tr><td>bush shelf cabinet mobile                           </td><td>0.9811302</td></tr>\n",
              "\t<tr><td>sauder shelf cabinet mobile                         </td><td>0.9810865</td></tr>\n",
              "</tbody>\n",
              "</table>\n"
            ],
            "text/markdown": "\nA grouped_df: 10 × 2\n\n| description &lt;chr&gt; | similarity &lt;dbl&gt; |\n|---|---|\n| osullivan living dimensions shelf bookcases          | 0.9891581 |\n| osullivan shelf heavyduty bookcases                  | 0.9877933 |\n| atlantic metals mobile shelf bookcases custom colors | 0.9854500 |\n| ikea shelf cabinet traditional                       | 0.9818388 |\n| bush shelf cabinet traditional                       | 0.9816737 |\n| sauder shelf cabinet traditional                     | 0.9816378 |\n| dania shelf cabinet traditional                      | 0.9814320 |\n| ikea shelf cabinet mobile                            | 0.9813458 |\n| bush shelf cabinet mobile                            | 0.9811302 |\n| sauder shelf cabinet mobile                          | 0.9810865 |\n\n",
            "text/latex": "A grouped\\_df: 10 × 2\n\\begin{tabular}{ll}\n description & similarity\\\\\n <chr> & <dbl>\\\\\n\\hline\n\t osullivan living dimensions shelf bookcases          & 0.9891581\\\\\n\t osullivan shelf heavyduty bookcases                  & 0.9877933\\\\\n\t atlantic metals mobile shelf bookcases custom colors & 0.9854500\\\\\n\t ikea shelf cabinet traditional                       & 0.9818388\\\\\n\t bush shelf cabinet traditional                       & 0.9816737\\\\\n\t sauder shelf cabinet traditional                     & 0.9816378\\\\\n\t dania shelf cabinet traditional                      & 0.9814320\\\\\n\t ikea shelf cabinet mobile                            & 0.9813458\\\\\n\t bush shelf cabinet mobile                            & 0.9811302\\\\\n\t sauder shelf cabinet mobile                          & 0.9810865\\\\\n\\end{tabular}\n",
            "text/plain": [
              "   description                                          similarity\n",
              "1  osullivan living dimensions shelf bookcases          0.9891581 \n",
              "2  osullivan shelf heavyduty bookcases                  0.9877933 \n",
              "3  atlantic metals mobile shelf bookcases custom colors 0.9854500 \n",
              "4  ikea shelf cabinet traditional                       0.9818388 \n",
              "5  bush shelf cabinet traditional                       0.9816737 \n",
              "6  sauder shelf cabinet traditional                     0.9816378 \n",
              "7  dania shelf cabinet traditional                      0.9814320 \n",
              "8  ikea shelf cabinet mobile                            0.9813458 \n",
              "9  bush shelf cabinet mobile                            0.9811302 \n",
              "10 sauder shelf cabinet mobile                          0.9810865 "
            ]
          },
          "metadata": {}
        }
      ]
    },
    {
      "cell_type": "markdown",
      "source": [
        "Using $11$ dimension finds better results with respect to the first $3$ dimensions, however distances are still cluttered. It's arguably better to build a latent space in which distances are more well spread in the vectorial space, to mantain a bigger margin between different elements. In the following we will use all the dimensions available."
      ],
      "metadata": {
        "id": "QxPXTwD5l0cN"
      }
    },
    {
      "cell_type": "markdown",
      "source": [
        "### Discount suggestion\n",
        "\n",
        "Let's see if retrieved documents can be used as a guide to discounting.\n"
      ],
      "metadata": {
        "id": "OLb3iA71l4BP"
      }
    },
    {
      "cell_type": "code",
      "source": [
        "sim.docs <- apply(tdm.lsa$dk, 1, cosine, query.ls)\n",
        "top10 <- top(5, sim.docs)\n",
        "data.frame(description=corpus[top10]$content, \n",
        "           similarity=sim.docs[top10],\n",
        "           price=data[top10,]$Discount)"
      ],
      "metadata": {
        "colab": {
          "base_uri": "https://localhost:8080/",
          "height": 255
        },
        "id": "hkgWm8d3lxjw",
        "outputId": "f5d1d022-b99f-4941-9da3-72b5c0db2d8d"
      },
      "execution_count": 16,
      "outputs": [
        {
          "output_type": "display_data",
          "data": {
            "text/html": [
              "<table class=\"dataframe\">\n",
              "<caption>A data.frame: 5 × 3</caption>\n",
              "<thead>\n",
              "\t<tr><th></th><th scope=col>description</th><th scope=col>similarity</th><th scope=col>price</th></tr>\n",
              "\t<tr><th></th><th scope=col>&lt;chr&gt;</th><th scope=col>&lt;dbl&gt;</th><th scope=col>&lt;dbl&gt;</th></tr>\n",
              "</thead>\n",
              "<tbody>\n",
              "\t<tr><th scope=row>1899</th><td>osullivan living dimensions shelf bookcases</td><td>0.9348726</td><td>0.00</td></tr>\n",
              "\t<tr><th scope=row>2297</th><td>osullivan living dimensions shelf bookcases</td><td>0.9348726</td><td>0.20</td></tr>\n",
              "\t<tr><th scope=row>2358</th><td>osullivan living dimensions shelf bookcases</td><td>0.9348726</td><td>0.32</td></tr>\n",
              "\t<tr><th scope=row>3265</th><td>osullivan living dimensions shelf bookcases</td><td>0.9348726</td><td>0.15</td></tr>\n",
              "\t<tr><th scope=row>4382</th><td>osullivan living dimensions shelf bookcases</td><td>0.9348726</td><td>0.15</td></tr>\n",
              "</tbody>\n",
              "</table>\n"
            ],
            "text/markdown": "\nA data.frame: 5 × 3\n\n| <!--/--> | description &lt;chr&gt; | similarity &lt;dbl&gt; | price &lt;dbl&gt; |\n|---|---|---|---|\n| 1899 | osullivan living dimensions shelf bookcases | 0.9348726 | 0.00 |\n| 2297 | osullivan living dimensions shelf bookcases | 0.9348726 | 0.20 |\n| 2358 | osullivan living dimensions shelf bookcases | 0.9348726 | 0.32 |\n| 3265 | osullivan living dimensions shelf bookcases | 0.9348726 | 0.15 |\n| 4382 | osullivan living dimensions shelf bookcases | 0.9348726 | 0.15 |\n\n",
            "text/latex": "A data.frame: 5 × 3\n\\begin{tabular}{r|lll}\n  & description & similarity & price\\\\\n  & <chr> & <dbl> & <dbl>\\\\\n\\hline\n\t1899 & osullivan living dimensions shelf bookcases & 0.9348726 & 0.00\\\\\n\t2297 & osullivan living dimensions shelf bookcases & 0.9348726 & 0.20\\\\\n\t2358 & osullivan living dimensions shelf bookcases & 0.9348726 & 0.32\\\\\n\t3265 & osullivan living dimensions shelf bookcases & 0.9348726 & 0.15\\\\\n\t4382 & osullivan living dimensions shelf bookcases & 0.9348726 & 0.15\\\\\n\\end{tabular}\n",
            "text/plain": [
              "     description                                 similarity price\n",
              "1899 osullivan living dimensions shelf bookcases 0.9348726  0.00 \n",
              "2297 osullivan living dimensions shelf bookcases 0.9348726  0.20 \n",
              "2358 osullivan living dimensions shelf bookcases 0.9348726  0.32 \n",
              "3265 osullivan living dimensions shelf bookcases 0.9348726  0.15 \n",
              "4382 osullivan living dimensions shelf bookcases 0.9348726  0.15 "
            ]
          },
          "metadata": {}
        }
      ]
    },
    {
      "cell_type": "markdown",
      "source": [
        "We get relevant results but discount rates aren't very helpful in this form. Even though we can't predict exactly how discounts are applied, since the dataset doesn't disclose this information, it's common knowledge that the amount of discount applied to customer $A$ might be different from the discount applied to customer $B$. Those differences comes from the amount of orders the client usually performs, the shipping method that it's involved, the region from which the client is ordering and probably many more.\n",
        "\n",
        "In order to give a better information retrieval system we need to address this causes. In the following section we will show that by taking into account the client that is actually making the order we can get different results than only relying on semantic text search."
      ],
      "metadata": {
        "id": "JEFqI4AHl78f"
      }
    },
    {
      "cell_type": "markdown",
      "source": [
        "## Querying in the clients space\n",
        "\n",
        "In order to evaluate clients similarity we will make use of the same techniques that we used in the previous sections. In particular, we'll build a matrix $M^{\\text{terms} \\times \\text{clients}}$. Each entry $M_{i,j}$ will be the frequency of the term $i$ for client $j$. We will then exploit TF-IDF to give importance to rare term and lower the importance of common terms in a balanced way.\n",
        "\n",
        "In this way clients that usually make similar order will end up with a similar vector representation.\n",
        "Of course this is an oversimplification in customer segmentation, but as we will see it already helps in achieving more explainable results. "
      ],
      "metadata": {
        "id": "tOyt9im_mBkD"
      }
    },
    {
      "cell_type": "code",
      "source": [
        "descriptions <- sapply(unique(data$Customer.ID ), function(c) {\n",
        "  paste(data[data$Customer.ID == c,]$Product.Name, collapse = \" \")\n",
        "})\n",
        "\n",
        "corpus <- preprocessDescriptions(descriptions)\n",
        "head(corpus$content)"
      ],
      "metadata": {
        "colab": {
          "base_uri": "https://localhost:8080/",
          "height": 781
        },
        "id": "quBzNSwKl9vD",
        "outputId": "966ca827-43d8-408b-f549-3f3ea29add64"
      },
      "execution_count": 17,
      "outputs": [
        {
          "output_type": "display_data",
          "data": {
            "text/html": [
              "<style>\n",
              ".dl-inline {width: auto; margin:0; padding: 0}\n",
              ".dl-inline>dt, .dl-inline>dd {float: none; width: auto; display: inline-block}\n",
              ".dl-inline>dt::after {content: \":\\0020\"; padding-right: .5ex}\n",
              ".dl-inline>dt:not(:first-of-type) {padding-left: .5ex}\n",
              "</style><dl class=dl-inline><dt>RH-19495</dt><dd>'plantronics cs overthehead monaural wireless headset system bevis round bullnose high table top safco rocking chair red office star steel folding chair black harbour creations executive leather armchair red memorex router bluetooth cisco audio dock caller id samsung speaker phone cordless fellowes lockers wire frame fellowes shelving wire frame novimex swivel stool red ames interoffice envelope securitytint sanford sketch pad blue cisco audio dock cordless sandisk flash drive erganomic sandisk note cards premium hon bag chairs red ikea floating shelf set traditional cardinal binding machine clear novimex rocking chair set two sandisk keyboard programmable eldon door stop duo pack eaton premium continuousfeed paper cotton letter size white shtsbox apple headset cordless personal creations ink jet cards labels xerox xerox rogers trays industrial sandisk numeric keypad bluetooth sanford pencil sharpener water color kleencut ruler serrated ames interoffice envelope recycled sandisk computer printout paper multicolor globeweis interoffice envelope securitytint acco binder covers durable binney smith pencil sharpener easyerase xerox bic pencil sharpener easyerase stockwell staples metal ames peel seal recycled novimex legal exhibit labels alphabetical avery binder recycled xerox memo slips recycled kleencut box cutter steel avery durable binders avery round labels alphabetical wilson jones hole reinforcements recycled wilson jones hole reinforcements clear stanley highlighters water color'</dd><dt>JR-16210</dt><dd>'novimex executive leather armchair black enermax acrylux wireless keyboard sauder classic bookcase pine brother fax copier laser bush shelf cabinet mobile gbc docubind p manual binding machine rogers folders wire frame breville stove white sauder shelf cabinet mobile rogers lockers blue wilson jones binding machine economy howard miller diameter chrome round wall clock hp fax copier laser apple speaker phone full size nokia audio dock voip mophie juice pack helium iphone xerox wilson jones binding machine recycled green bar note cards multicolor hon swivel stool set two globeweis manila envelope clear poly window fiskars trimmer serrated memorex numeric keypad erganomic enermax flash drive erganomic elite shears easy grip elite trimmer steel cardinal hole punch recycled logitech m wireless mouse web scrolling osullivan shelf bookcase odessa pine avery index tab durable green bar parchment paper x acco binder covers clear wilson jones hanging recycled pressboard data binders rogers box wire frame xerox parchment paper multicolor ibico binding machine durable boston highlighters easyerase maxell gb dvdrw pack hon chairmat set two avery file folder labels adjustable xerox message books premium peeloff china markers novimex legal exhibit labels adjustable hon removable labels adjustable cardinal binder covers economy hon file folder labels adjustable'</dd><dt>CR-12730</dt><dd>'nokia smart phone caller id bevis conference table fully assembled bevis conference table fully assembled lesro wood table adjustable height avanti cu ft refrigerator brother ink color safco library doors traditional brother personal copier color hewlett fax machine laser hon conference table bottom storage hon conference table bottom storage apple speaker phone voip motorola audio dock caller id fellowes lockers blue global leather oak executive chair black motorola audio dock caller id brother fax copier laser office star chairmat red nokia speaker phone voip sharp personal copier laser samsung headset full size stiletto shears high speed cardinal binding machine durable sharp personal copier laser novimex steel folding chair set two bic markers blue jiffy mailers set cisco headset full size jiffy mailers set bic pencil sharpener water color airmail envelopes harbour creations swivel stool set two elite letter opener high speed cisco signal booster caller id oic push pins pack tripp lite isotel ultra outlet metal surge stockwell rubber bands assorted sizes brother ink digital oic paper clips assorted sizes stiletto box cutter easy grip kraft interoffice envelope clear poly window rubbermaid stacking tray erganomic memorex flash drive usb ames business envelopes recycled memorex flash drive usb stiletto box cutter serrated harbour creations swivel stool set two novimex round labels laser printer compatible ibico index tab clear enermax note cards premium kleencut scissors serrated boston pens water color cardinal hole punch durable xerox deflecto stacking tray durable avery round labels laser printer compatible smead round labels adjustable avery durable poly binders'</dd><dt>KM-16375</dt><dd>'motorola smart phone cordless plantronics savi w multidevice wireless headset system konica receipt printer red panasonic inkjet red hon series task chairs big tall eldon lockers single width office star chairmat red dania corner shelving metal global fabric managers chair dark gray ki adjustableheight table toshiba iptsd ip telephone letter size cart sharp fax machine color airmail envelopes okidata printer white sanford canvas easyerase cisco signal booster caller id fellowes file cart single width xerox cameo interoffice envelope set enermax numeric keypad bluetooth stiletto trimmer easy grip sauder inglewood library bookcases acco binder covers economy hon steel folding chair red kleencut box cutter high speed fellowes lockers blue enermax parchment paper x bic canvas fluorescent eaton cards envelopes recycled green bar cards envelopes recycled boston highlighters fluorescent deflecto frame duo pack boston canvas easyerase howard miller diameter pewter finish round wall clock acco hole punch economy cameo manila envelope clear poly window rogers file cart industrial deflecto stacking tray erganomic recycled steel personal file hanging file folders novimex bag chairs adjustable fellowes bankers box stordrawer steel plus microsoft wireless mobile mouse globeweis business envelopes clear poly window lf elite d dazzle designer hard case cover lf stylus pen wiper apple iphone c mini lite hon steel folding chair adjustable advantus photo frame erganomic stockwell thumb tacks pack memorex flash drive erganomic rogers box industrial avery diskette storage pages pack harbour creations bag chairs red globeweis manila envelope recycled ibico hole punch recycled xerox eaton computer printout paper x westinghouse clipon gooseneck lamps stockwell rubber bands bulk pack message book phone wirebound standard line memo x bic markers easyerase letter legal size expandable poly string tie envelopes smead box blue xerox computer printout paper premium novimex round labels label set smead round labels alphabetical smead shipping labels adjustable smead legal exhibit labels laser printer compatible binney smith inktank desk highlighter chisel tip yellow box fellowes box wire frame sandisk message books x'</dd><dt>RH-9495</dt><dd>'sharp wireless fax highspeed stanley markers fluorescent green bar parchment paper recycled startech phone red bic canvas fluorescent ibico binder covers economy avery hole reinforcements clear'</dd><dt>JM-15655</dt><dd>'samsung smart phone caller id novimex executive leather armchair adjustable hewlett fax copier highspeed ikea classic bookcase traditional logitech g wireless gaming mouse motorola speaker phone voip ikea shelf cabinet mobile chromcraft rectangular conference tables epson card printer wireless hp ink digital eldon lockers blue apple headset voip nokia smart phone full size sauder corner shelving metal tenex photo frame erganomic apple signal booster full size advantus clock durable binney smith sketch pad water color kraft peel seal securitytint boston highlighters blue wilson jones binding machine durable bevis conference table rectangular enermax mouse erganomic griffin gc auxiliary audio cable epson card printer wireless epson printer white lesro wood table fully assembled canon ink highspeed oic rubber bands bulk pack fiskars letter opener high speed stiletto scissors high speed advantus clock duo pack globeweis clasp envelope set hewlett fax copier color acco hole punch durable acco binding machine recycled advantus staples metal xerox parchment paper x kraft peel seal securitytint office star bag chairs black ikross bluetooth portable keyboard cell phone stand holder brush apple iphone s c s safco corner shelving metal wilson jones hole punch economy boston pens easyerase rubbermaid photo frame duo pack stiletto letter opener easy grip eldon photo frame black tenex stacking tray black wilson jones century plastic molded ring binders oic thumb tacks assorted sizes elite letter opener high speed tenex box industrial eldon simplefile box office rogers jumbo file granite accos rubber bands bulk pack avery things today spiral book stockwell clamps assorted sizes ibico index tab clear cameo clasp envelope securitytint harbour creations round labels label set avery color coded labels label set avery shipping labels laser printer compatible commercial windtunnel clean air upright vacuum replacement belts filtration bags fiskars ruler steel cardinal index tab clear design ebony sketching pencil binder clips oic'</dd></dl>\n"
            ],
            "text/markdown": "RH-19495\n:   'plantronics cs overthehead monaural wireless headset system bevis round bullnose high table top safco rocking chair red office star steel folding chair black harbour creations executive leather armchair red memorex router bluetooth cisco audio dock caller id samsung speaker phone cordless fellowes lockers wire frame fellowes shelving wire frame novimex swivel stool red ames interoffice envelope securitytint sanford sketch pad blue cisco audio dock cordless sandisk flash drive erganomic sandisk note cards premium hon bag chairs red ikea floating shelf set traditional cardinal binding machine clear novimex rocking chair set two sandisk keyboard programmable eldon door stop duo pack eaton premium continuousfeed paper cotton letter size white shtsbox apple headset cordless personal creations ink jet cards labels xerox xerox rogers trays industrial sandisk numeric keypad bluetooth sanford pencil sharpener water color kleencut ruler serrated ames interoffice envelope recycled sandisk computer printout paper multicolor globeweis interoffice envelope securitytint acco binder covers durable binney smith pencil sharpener easyerase xerox bic pencil sharpener easyerase stockwell staples metal ames peel seal recycled novimex legal exhibit labels alphabetical avery binder recycled xerox memo slips recycled kleencut box cutter steel avery durable binders avery round labels alphabetical wilson jones hole reinforcements recycled wilson jones hole reinforcements clear stanley highlighters water color'JR-16210\n:   'novimex executive leather armchair black enermax acrylux wireless keyboard sauder classic bookcase pine brother fax copier laser bush shelf cabinet mobile gbc docubind p manual binding machine rogers folders wire frame breville stove white sauder shelf cabinet mobile rogers lockers blue wilson jones binding machine economy howard miller diameter chrome round wall clock hp fax copier laser apple speaker phone full size nokia audio dock voip mophie juice pack helium iphone xerox wilson jones binding machine recycled green bar note cards multicolor hon swivel stool set two globeweis manila envelope clear poly window fiskars trimmer serrated memorex numeric keypad erganomic enermax flash drive erganomic elite shears easy grip elite trimmer steel cardinal hole punch recycled logitech m wireless mouse web scrolling osullivan shelf bookcase odessa pine avery index tab durable green bar parchment paper x acco binder covers clear wilson jones hanging recycled pressboard data binders rogers box wire frame xerox parchment paper multicolor ibico binding machine durable boston highlighters easyerase maxell gb dvdrw pack hon chairmat set two avery file folder labels adjustable xerox message books premium peeloff china markers novimex legal exhibit labels adjustable hon removable labels adjustable cardinal binder covers economy hon file folder labels adjustable'CR-12730\n:   'nokia smart phone caller id bevis conference table fully assembled bevis conference table fully assembled lesro wood table adjustable height avanti cu ft refrigerator brother ink color safco library doors traditional brother personal copier color hewlett fax machine laser hon conference table bottom storage hon conference table bottom storage apple speaker phone voip motorola audio dock caller id fellowes lockers blue global leather oak executive chair black motorola audio dock caller id brother fax copier laser office star chairmat red nokia speaker phone voip sharp personal copier laser samsung headset full size stiletto shears high speed cardinal binding machine durable sharp personal copier laser novimex steel folding chair set two bic markers blue jiffy mailers set cisco headset full size jiffy mailers set bic pencil sharpener water color airmail envelopes harbour creations swivel stool set two elite letter opener high speed cisco signal booster caller id oic push pins pack tripp lite isotel ultra outlet metal surge stockwell rubber bands assorted sizes brother ink digital oic paper clips assorted sizes stiletto box cutter easy grip kraft interoffice envelope clear poly window rubbermaid stacking tray erganomic memorex flash drive usb ames business envelopes recycled memorex flash drive usb stiletto box cutter serrated harbour creations swivel stool set two novimex round labels laser printer compatible ibico index tab clear enermax note cards premium kleencut scissors serrated boston pens water color cardinal hole punch durable xerox deflecto stacking tray durable avery round labels laser printer compatible smead round labels adjustable avery durable poly binders'KM-16375\n:   'motorola smart phone cordless plantronics savi w multidevice wireless headset system konica receipt printer red panasonic inkjet red hon series task chairs big tall eldon lockers single width office star chairmat red dania corner shelving metal global fabric managers chair dark gray ki adjustableheight table toshiba iptsd ip telephone letter size cart sharp fax machine color airmail envelopes okidata printer white sanford canvas easyerase cisco signal booster caller id fellowes file cart single width xerox cameo interoffice envelope set enermax numeric keypad bluetooth stiletto trimmer easy grip sauder inglewood library bookcases acco binder covers economy hon steel folding chair red kleencut box cutter high speed fellowes lockers blue enermax parchment paper x bic canvas fluorescent eaton cards envelopes recycled green bar cards envelopes recycled boston highlighters fluorescent deflecto frame duo pack boston canvas easyerase howard miller diameter pewter finish round wall clock acco hole punch economy cameo manila envelope clear poly window rogers file cart industrial deflecto stacking tray erganomic recycled steel personal file hanging file folders novimex bag chairs adjustable fellowes bankers box stordrawer steel plus microsoft wireless mobile mouse globeweis business envelopes clear poly window lf elite d dazzle designer hard case cover lf stylus pen wiper apple iphone c mini lite hon steel folding chair adjustable advantus photo frame erganomic stockwell thumb tacks pack memorex flash drive erganomic rogers box industrial avery diskette storage pages pack harbour creations bag chairs red globeweis manila envelope recycled ibico hole punch recycled xerox eaton computer printout paper x westinghouse clipon gooseneck lamps stockwell rubber bands bulk pack message book phone wirebound standard line memo x bic markers easyerase letter legal size expandable poly string tie envelopes smead box blue xerox computer printout paper premium novimex round labels label set smead round labels alphabetical smead shipping labels adjustable smead legal exhibit labels laser printer compatible binney smith inktank desk highlighter chisel tip yellow box fellowes box wire frame sandisk message books x'RH-9495\n:   'sharp wireless fax highspeed stanley markers fluorescent green bar parchment paper recycled startech phone red bic canvas fluorescent ibico binder covers economy avery hole reinforcements clear'JM-15655\n:   'samsung smart phone caller id novimex executive leather armchair adjustable hewlett fax copier highspeed ikea classic bookcase traditional logitech g wireless gaming mouse motorola speaker phone voip ikea shelf cabinet mobile chromcraft rectangular conference tables epson card printer wireless hp ink digital eldon lockers blue apple headset voip nokia smart phone full size sauder corner shelving metal tenex photo frame erganomic apple signal booster full size advantus clock durable binney smith sketch pad water color kraft peel seal securitytint boston highlighters blue wilson jones binding machine durable bevis conference table rectangular enermax mouse erganomic griffin gc auxiliary audio cable epson card printer wireless epson printer white lesro wood table fully assembled canon ink highspeed oic rubber bands bulk pack fiskars letter opener high speed stiletto scissors high speed advantus clock duo pack globeweis clasp envelope set hewlett fax copier color acco hole punch durable acco binding machine recycled advantus staples metal xerox parchment paper x kraft peel seal securitytint office star bag chairs black ikross bluetooth portable keyboard cell phone stand holder brush apple iphone s c s safco corner shelving metal wilson jones hole punch economy boston pens easyerase rubbermaid photo frame duo pack stiletto letter opener easy grip eldon photo frame black tenex stacking tray black wilson jones century plastic molded ring binders oic thumb tacks assorted sizes elite letter opener high speed tenex box industrial eldon simplefile box office rogers jumbo file granite accos rubber bands bulk pack avery things today spiral book stockwell clamps assorted sizes ibico index tab clear cameo clasp envelope securitytint harbour creations round labels label set avery color coded labels label set avery shipping labels laser printer compatible commercial windtunnel clean air upright vacuum replacement belts filtration bags fiskars ruler steel cardinal index tab clear design ebony sketching pencil binder clips oic'\n\n",
            "text/latex": "\\begin{description*}\n\\item[RH-19495] 'plantronics cs overthehead monaural wireless headset system bevis round bullnose high table top safco rocking chair red office star steel folding chair black harbour creations executive leather armchair red memorex router bluetooth cisco audio dock caller id samsung speaker phone cordless fellowes lockers wire frame fellowes shelving wire frame novimex swivel stool red ames interoffice envelope securitytint sanford sketch pad blue cisco audio dock cordless sandisk flash drive erganomic sandisk note cards premium hon bag chairs red ikea floating shelf set traditional cardinal binding machine clear novimex rocking chair set two sandisk keyboard programmable eldon door stop duo pack eaton premium continuousfeed paper cotton letter size white shtsbox apple headset cordless personal creations ink jet cards labels xerox xerox rogers trays industrial sandisk numeric keypad bluetooth sanford pencil sharpener water color kleencut ruler serrated ames interoffice envelope recycled sandisk computer printout paper multicolor globeweis interoffice envelope securitytint acco binder covers durable binney smith pencil sharpener easyerase xerox bic pencil sharpener easyerase stockwell staples metal ames peel seal recycled novimex legal exhibit labels alphabetical avery binder recycled xerox memo slips recycled kleencut box cutter steel avery durable binders avery round labels alphabetical wilson jones hole reinforcements recycled wilson jones hole reinforcements clear stanley highlighters water color'\n\\item[JR-16210] 'novimex executive leather armchair black enermax acrylux wireless keyboard sauder classic bookcase pine brother fax copier laser bush shelf cabinet mobile gbc docubind p manual binding machine rogers folders wire frame breville stove white sauder shelf cabinet mobile rogers lockers blue wilson jones binding machine economy howard miller diameter chrome round wall clock hp fax copier laser apple speaker phone full size nokia audio dock voip mophie juice pack helium iphone xerox wilson jones binding machine recycled green bar note cards multicolor hon swivel stool set two globeweis manila envelope clear poly window fiskars trimmer serrated memorex numeric keypad erganomic enermax flash drive erganomic elite shears easy grip elite trimmer steel cardinal hole punch recycled logitech m wireless mouse web scrolling osullivan shelf bookcase odessa pine avery index tab durable green bar parchment paper x acco binder covers clear wilson jones hanging recycled pressboard data binders rogers box wire frame xerox parchment paper multicolor ibico binding machine durable boston highlighters easyerase maxell gb dvdrw pack hon chairmat set two avery file folder labels adjustable xerox message books premium peeloff china markers novimex legal exhibit labels adjustable hon removable labels adjustable cardinal binder covers economy hon file folder labels adjustable'\n\\item[CR-12730] 'nokia smart phone caller id bevis conference table fully assembled bevis conference table fully assembled lesro wood table adjustable height avanti cu ft refrigerator brother ink color safco library doors traditional brother personal copier color hewlett fax machine laser hon conference table bottom storage hon conference table bottom storage apple speaker phone voip motorola audio dock caller id fellowes lockers blue global leather oak executive chair black motorola audio dock caller id brother fax copier laser office star chairmat red nokia speaker phone voip sharp personal copier laser samsung headset full size stiletto shears high speed cardinal binding machine durable sharp personal copier laser novimex steel folding chair set two bic markers blue jiffy mailers set cisco headset full size jiffy mailers set bic pencil sharpener water color airmail envelopes harbour creations swivel stool set two elite letter opener high speed cisco signal booster caller id oic push pins pack tripp lite isotel ultra outlet metal surge stockwell rubber bands assorted sizes brother ink digital oic paper clips assorted sizes stiletto box cutter easy grip kraft interoffice envelope clear poly window rubbermaid stacking tray erganomic memorex flash drive usb ames business envelopes recycled memorex flash drive usb stiletto box cutter serrated harbour creations swivel stool set two novimex round labels laser printer compatible ibico index tab clear enermax note cards premium kleencut scissors serrated boston pens water color cardinal hole punch durable xerox deflecto stacking tray durable avery round labels laser printer compatible smead round labels adjustable avery durable poly binders'\n\\item[KM-16375] 'motorola smart phone cordless plantronics savi w multidevice wireless headset system konica receipt printer red panasonic inkjet red hon series task chairs big tall eldon lockers single width office star chairmat red dania corner shelving metal global fabric managers chair dark gray ki adjustableheight table toshiba iptsd ip telephone letter size cart sharp fax machine color airmail envelopes okidata printer white sanford canvas easyerase cisco signal booster caller id fellowes file cart single width xerox cameo interoffice envelope set enermax numeric keypad bluetooth stiletto trimmer easy grip sauder inglewood library bookcases acco binder covers economy hon steel folding chair red kleencut box cutter high speed fellowes lockers blue enermax parchment paper x bic canvas fluorescent eaton cards envelopes recycled green bar cards envelopes recycled boston highlighters fluorescent deflecto frame duo pack boston canvas easyerase howard miller diameter pewter finish round wall clock acco hole punch economy cameo manila envelope clear poly window rogers file cart industrial deflecto stacking tray erganomic recycled steel personal file hanging file folders novimex bag chairs adjustable fellowes bankers box stordrawer steel plus microsoft wireless mobile mouse globeweis business envelopes clear poly window lf elite d dazzle designer hard case cover lf stylus pen wiper apple iphone c mini lite hon steel folding chair adjustable advantus photo frame erganomic stockwell thumb tacks pack memorex flash drive erganomic rogers box industrial avery diskette storage pages pack harbour creations bag chairs red globeweis manila envelope recycled ibico hole punch recycled xerox eaton computer printout paper x westinghouse clipon gooseneck lamps stockwell rubber bands bulk pack message book phone wirebound standard line memo x bic markers easyerase letter legal size expandable poly string tie envelopes smead box blue xerox computer printout paper premium novimex round labels label set smead round labels alphabetical smead shipping labels adjustable smead legal exhibit labels laser printer compatible binney smith inktank desk highlighter chisel tip yellow box fellowes box wire frame sandisk message books x'\n\\item[RH-9495] 'sharp wireless fax highspeed stanley markers fluorescent green bar parchment paper recycled startech phone red bic canvas fluorescent ibico binder covers economy avery hole reinforcements clear'\n\\item[JM-15655] 'samsung smart phone caller id novimex executive leather armchair adjustable hewlett fax copier highspeed ikea classic bookcase traditional logitech g wireless gaming mouse motorola speaker phone voip ikea shelf cabinet mobile chromcraft rectangular conference tables epson card printer wireless hp ink digital eldon lockers blue apple headset voip nokia smart phone full size sauder corner shelving metal tenex photo frame erganomic apple signal booster full size advantus clock durable binney smith sketch pad water color kraft peel seal securitytint boston highlighters blue wilson jones binding machine durable bevis conference table rectangular enermax mouse erganomic griffin gc auxiliary audio cable epson card printer wireless epson printer white lesro wood table fully assembled canon ink highspeed oic rubber bands bulk pack fiskars letter opener high speed stiletto scissors high speed advantus clock duo pack globeweis clasp envelope set hewlett fax copier color acco hole punch durable acco binding machine recycled advantus staples metal xerox parchment paper x kraft peel seal securitytint office star bag chairs black ikross bluetooth portable keyboard cell phone stand holder brush apple iphone s c s safco corner shelving metal wilson jones hole punch economy boston pens easyerase rubbermaid photo frame duo pack stiletto letter opener easy grip eldon photo frame black tenex stacking tray black wilson jones century plastic molded ring binders oic thumb tacks assorted sizes elite letter opener high speed tenex box industrial eldon simplefile box office rogers jumbo file granite accos rubber bands bulk pack avery things today spiral book stockwell clamps assorted sizes ibico index tab clear cameo clasp envelope securitytint harbour creations round labels label set avery color coded labels label set avery shipping labels laser printer compatible commercial windtunnel clean air upright vacuum replacement belts filtration bags fiskars ruler steel cardinal index tab clear design ebony sketching pencil binder clips oic'\n\\end{description*}\n",
            "text/plain": [
              "                                                                                                                                                                                                                                                                                                                                                                                                                                                                                                                                                                                                                                                                                                                                                                                                                                                                                                                                                                                                                                                                                                                                                                                                                                                                                                                                                                                                                                                                                                                                                                                                                                                                                                                                                                                                                                                                                                                                                                                                                                                                                                                                                                                                                                                                                                           RH-19495 \n",
              "                                                                                                                                                                                                                                                                                                                                                                                                                                                                                                                                                                                                                                                                                                                                              \"plantronics cs overthehead monaural wireless headset system bevis round bullnose high table top safco rocking chair red office star steel folding chair black harbour creations executive leather armchair red memorex router bluetooth cisco audio dock caller id samsung speaker phone cordless fellowes lockers wire frame fellowes shelving wire frame novimex swivel stool red ames interoffice envelope securitytint sanford sketch pad blue cisco audio dock cordless sandisk flash drive erganomic sandisk note cards premium hon bag chairs red ikea floating shelf set traditional cardinal binding machine clear novimex rocking chair set two sandisk keyboard programmable eldon door stop duo pack eaton premium continuousfeed paper cotton letter size white shtsbox apple headset cordless personal creations ink jet cards labels xerox xerox rogers trays industrial sandisk numeric keypad bluetooth sanford pencil sharpener water color kleencut ruler serrated ames interoffice envelope recycled sandisk computer printout paper multicolor globeweis interoffice envelope securitytint acco binder covers durable binney smith pencil sharpener easyerase xerox bic pencil sharpener easyerase stockwell staples metal ames peel seal recycled novimex legal exhibit labels alphabetical avery binder recycled xerox memo slips recycled kleencut box cutter steel avery durable binders avery round labels alphabetical wilson jones hole reinforcements recycled wilson jones hole reinforcements clear stanley highlighters water color\" \n",
              "                                                                                                                                                                                                                                                                                                                                                                                                                                                                                                                                                                                                                                                                                                                                                                                                                                                                                                                                                                                                                                                                                                                                                                                                                                                                                                                                                                                                                                                                                                                                                                                                                                                                                                                                                                                                                                                                                                                                                                                                                                                                                                                                                                                                                                                                                                           JR-16210 \n",
              "                                                                                                                                                                                                                                                                                                                                                                                                                                                                                                                                                                                                                                                                                                                                                                                                                                                                                         \"novimex executive leather armchair black enermax acrylux wireless keyboard sauder classic bookcase pine brother fax copier laser bush shelf cabinet mobile gbc docubind p manual binding machine rogers folders wire frame breville stove white sauder shelf cabinet mobile rogers lockers blue wilson jones binding machine economy howard miller diameter chrome round wall clock hp fax copier laser apple speaker phone full size nokia audio dock voip mophie juice pack helium iphone xerox wilson jones binding machine recycled green bar note cards multicolor hon swivel stool set two globeweis manila envelope clear poly window fiskars trimmer serrated memorex numeric keypad erganomic enermax flash drive erganomic elite shears easy grip elite trimmer steel cardinal hole punch recycled logitech m wireless mouse web scrolling osullivan shelf bookcase odessa pine avery index tab durable green bar parchment paper x acco binder covers clear wilson jones hanging recycled pressboard data binders rogers box wire frame xerox parchment paper multicolor ibico binding machine durable boston highlighters easyerase maxell gb dvdrw pack hon chairmat set two avery file folder labels adjustable xerox message books premium peeloff china markers novimex legal exhibit labels adjustable hon removable labels adjustable cardinal binder covers economy hon file folder labels adjustable\" \n",
              "                                                                                                                                                                                                                                                                                                                                                                                                                                                                                                                                                                                                                                                                                                                                                                                                                                                                                                                                                                                                                                                                                                                                                                                                                                                                                                                                                                                                                                                                                                                                                                                                                                                                                                                                                                                                                                                                                                                                                                                                                                                                                                                                                                                                                                                                                                           CR-12730 \n",
              "                                                                                                                                                                                                                                                                                                                                                                                                                                                                                                                                                 \"nokia smart phone caller id bevis conference table fully assembled bevis conference table fully assembled lesro wood table adjustable height avanti cu ft refrigerator brother ink color safco library doors traditional brother personal copier color hewlett fax machine laser hon conference table bottom storage hon conference table bottom storage apple speaker phone voip motorola audio dock caller id fellowes lockers blue global leather oak executive chair black motorola audio dock caller id brother fax copier laser office star chairmat red nokia speaker phone voip sharp personal copier laser samsung headset full size stiletto shears high speed cardinal binding machine durable sharp personal copier laser novimex steel folding chair set two bic markers blue jiffy mailers set cisco headset full size jiffy mailers set bic pencil sharpener water color airmail envelopes harbour creations swivel stool set two elite letter opener high speed cisco signal booster caller id oic push pins pack tripp lite isotel ultra outlet metal surge stockwell rubber bands assorted sizes brother ink digital oic paper clips assorted sizes stiletto box cutter easy grip kraft interoffice envelope clear poly window rubbermaid stacking tray erganomic memorex flash drive usb ames business envelopes recycled memorex flash drive usb stiletto box cutter serrated harbour creations swivel stool set two novimex round labels laser printer compatible ibico index tab clear enermax note cards premium kleencut scissors serrated boston pens water color cardinal hole punch durable xerox deflecto stacking tray durable avery round labels laser printer compatible smead round labels adjustable avery durable poly binders\" \n",
              "                                                                                                                                                                                                                                                                                                                                                                                                                                                                                                                                                                                                                                                                                                                                                                                                                                                                                                                                                                                                                                                                                                                                                                                                                                                                                                                                                                                                                                                                                                                                                                                                                                                                                                                                                                                                                                                                                                                                                                                                                                                                                                                                                                                                                                                                                                           KM-16375 \n",
              "\"motorola smart phone cordless plantronics savi w multidevice wireless headset system konica receipt printer red panasonic inkjet red hon series task chairs big tall eldon lockers single width office star chairmat red dania corner shelving metal global fabric managers chair dark gray ki adjustableheight table toshiba iptsd ip telephone letter size cart sharp fax machine color airmail envelopes okidata printer white sanford canvas easyerase cisco signal booster caller id fellowes file cart single width xerox cameo interoffice envelope set enermax numeric keypad bluetooth stiletto trimmer easy grip sauder inglewood library bookcases acco binder covers economy hon steel folding chair red kleencut box cutter high speed fellowes lockers blue enermax parchment paper x bic canvas fluorescent eaton cards envelopes recycled green bar cards envelopes recycled boston highlighters fluorescent deflecto frame duo pack boston canvas easyerase howard miller diameter pewter finish round wall clock acco hole punch economy cameo manila envelope clear poly window rogers file cart industrial deflecto stacking tray erganomic recycled steel personal file hanging file folders novimex bag chairs adjustable fellowes bankers box stordrawer steel plus microsoft wireless mobile mouse globeweis business envelopes clear poly window lf elite d dazzle designer hard case cover lf stylus pen wiper apple iphone c mini lite hon steel folding chair adjustable advantus photo frame erganomic stockwell thumb tacks pack memorex flash drive erganomic rogers box industrial avery diskette storage pages pack harbour creations bag chairs red globeweis manila envelope recycled ibico hole punch recycled xerox eaton computer printout paper x westinghouse clipon gooseneck lamps stockwell rubber bands bulk pack message book phone wirebound standard line memo x bic markers easyerase letter legal size expandable poly string tie envelopes smead box blue xerox computer printout paper premium novimex round labels label set smead round labels alphabetical smead shipping labels adjustable smead legal exhibit labels laser printer compatible binney smith inktank desk highlighter chisel tip yellow box fellowes box wire frame sandisk message books x\" \n",
              "                                                                                                                                                                                                                                                                                                                                                                                                                                                                                                                                                                                                                                                                                                                                                                                                                                                                                                                                                                                                                                                                                                                                                                                                                                                                                                                                                                                                                                                                                                                                                                                                                                                                                                                                                                                                                                                                                                                                                                                                                                                                                                                                                                                                                                                                                                            RH-9495 \n",
              "                                                                                                                                                                                                                                                                                                                                                                                                                                                                                                                                                                                                                                                                                                                                                                                                                                                                                                                                                                                                                                                                                                                                                                                                                                                                                                                                                                                                                                                                                                                                                                                                                                                                                                                                                                                                                                                                                                                                                                                                                                                                                                                \"sharp wireless fax highspeed stanley markers fluorescent green bar parchment paper recycled startech phone red bic canvas fluorescent ibico binder covers economy avery hole reinforcements clear\" \n",
              "                                                                                                                                                                                                                                                                                                                                                                                                                                                                                                                                                                                                                                                                                                                                                                                                                                                                                                                                                                                                                                                                                                                                                                                                                                                                                                                                                                                                                                                                                                                                                                                                                                                                                                                                                                                                                                                                                                                                                                                                                                                                                                                                                                                                                                                                                                           JM-15655 \n",
              "                                                                                                                                                                                      \"samsung smart phone caller id novimex executive leather armchair adjustable hewlett fax copier highspeed ikea classic bookcase traditional logitech g wireless gaming mouse motorola speaker phone voip ikea shelf cabinet mobile chromcraft rectangular conference tables epson card printer wireless hp ink digital eldon lockers blue apple headset voip nokia smart phone full size sauder corner shelving metal tenex photo frame erganomic apple signal booster full size advantus clock durable binney smith sketch pad water color kraft peel seal securitytint boston highlighters blue wilson jones binding machine durable bevis conference table rectangular enermax mouse erganomic griffin gc auxiliary audio cable epson card printer wireless epson printer white lesro wood table fully assembled canon ink highspeed oic rubber bands bulk pack fiskars letter opener high speed stiletto scissors high speed advantus clock duo pack globeweis clasp envelope set hewlett fax copier color acco hole punch durable acco binding machine recycled advantus staples metal xerox parchment paper x kraft peel seal securitytint office star bag chairs black ikross bluetooth portable keyboard cell phone stand holder brush apple iphone s c s safco corner shelving metal wilson jones hole punch economy boston pens easyerase rubbermaid photo frame duo pack stiletto letter opener easy grip eldon photo frame black tenex stacking tray black wilson jones century plastic molded ring binders oic thumb tacks assorted sizes elite letter opener high speed tenex box industrial eldon simplefile box office rogers jumbo file granite accos rubber bands bulk pack avery things today spiral book stockwell clamps assorted sizes ibico index tab clear cameo clasp envelope securitytint harbour creations round labels label set avery color coded labels label set avery shipping labels laser printer compatible commercial windtunnel clean air upright vacuum replacement belts filtration bags fiskars ruler steel cardinal index tab clear design ebony sketching pencil binder clips oic\" "
            ]
          },
          "metadata": {}
        }
      ]
    },
    {
      "cell_type": "code",
      "source": [
        "tcm <- TermDocumentMatrix(corpus)\n",
        "tcm"
      ],
      "metadata": {
        "colab": {
          "base_uri": "https://localhost:8080/",
          "height": 104
        },
        "id": "VdtnnxigmEyh",
        "outputId": "4f3b01f3-147b-433f-c3bb-336d22b3f474"
      },
      "execution_count": 18,
      "outputs": [
        {
          "output_type": "display_data",
          "data": {
            "text/plain": [
              "<<TermDocumentMatrix (terms: 2041, documents: 1590)>>\n",
              "Non-/sparse entries: 155941/3089249\n",
              "Sparsity           : 95%\n",
              "Maximal term length: 23\n",
              "Weighting          : term frequency (tf)"
            ]
          },
          "metadata": {}
        }
      ]
    },
    {
      "cell_type": "markdown",
      "source": [
        "As in the previous experiments, we will remove all of those terms that don't appear in at least two different clients.\n"
      ],
      "metadata": {
        "id": "lcWK5qjEmt6I"
      }
    },
    {
      "cell_type": "code",
      "source": [
        "maxSparsity <- 1 - 2/tcm$nrow\n",
        "tcm <- removeSparseTerms(tcm, maxSparsity)\n",
        "tcm"
      ],
      "metadata": {
        "colab": {
          "base_uri": "https://localhost:8080/",
          "height": 104
        },
        "id": "jjDR6jpQ7pBB",
        "outputId": "2c182fa1-f143-4938-efbb-6625928d2a8e"
      },
      "execution_count": 19,
      "outputs": [
        {
          "output_type": "display_data",
          "data": {
            "text/plain": [
              "<<TermDocumentMatrix (terms: 1988, documents: 1590)>>\n",
              "Non-/sparse entries: 155888/3005032\n",
              "Sparsity           : 95%\n",
              "Maximal term length: 21\n",
              "Weighting          : term frequency (tf)"
            ]
          },
          "metadata": {}
        }
      ]
    },
    {
      "cell_type": "code",
      "source": [
        "tcm.terms <- rownames(tcm)\n",
        "tcm.m <- as.matrix(tcm)\n",
        "\n",
        "# TF-IDF application\n",
        "tcm.m <- lw_logtf(tcm.m) * ( 1 - entropy(tcm.m))"
      ],
      "metadata": {
        "id": "3AWpE8Yqm9cM"
      },
      "execution_count": 20,
      "outputs": []
    },
    {
      "cell_type": "markdown",
      "source": [
        "We will directly search in the semantic space since as we've already seen, in previous experiments, it helps finding better results."
      ],
      "metadata": {
        "id": "b5G9z5UxnBHV"
      }
    },
    {
      "cell_type": "code",
      "source": [
        "tcm.lsa <- lsa(tcm.m)\n",
        "\n",
        "tcm.lsa.t <- tcm.lsa$tk %*% diag( tcm.lsa$sk )\n",
        "tcm.lsa.t.norm <- apply(tcm.lsa.t, 1, norm, type = \"2\")\n",
        "tcm.lsa.t.normalized <- tcm.lsa.t / tcm.lsa.t.norm\n",
        "\n",
        "tcm.lsa.c <- tcm.lsa$dk %*% diag( tcm.lsa$sk )\n",
        "tcm.lsa.c.norm <- apply(tcm.lsa.c, 1, norm, type = \"2\")\n",
        "tcm.lsa.c.normalized <- tcm.lsa.c / tcm.lsa.c.norm"
      ],
      "metadata": {
        "colab": {
          "base_uri": "https://localhost:8080/"
        },
        "id": "bI3T_Lffm_TA",
        "outputId": "93ce8ff7-2859-44b7-cc01-1549693b1e36"
      },
      "execution_count": 21,
      "outputs": [
        {
          "output_type": "stream",
          "name": "stderr",
          "text": [
            "Warning message in lsa(tcm.m):\n",
            "“[lsa] - there are singular values which are zero.”\n"
          ]
        }
      ]
    },
    {
      "cell_type": "markdown",
      "source": [
        "We could now try and experiment with client retrieval, but it would be hardly explainable with the current set of informations.\n",
        "\n",
        "We will directly show how incorporating this information yields better results."
      ],
      "metadata": {
        "id": "j73cdCuFMV3U"
      }
    },
    {
      "cell_type": "markdown",
      "source": [
        "## Multidimensional search\n",
        "\n",
        "Going back to the initial task we can now search semantically in both client and document space. This gives us the ability to search for semantical similarity in both the textual space and the client space."
      ],
      "metadata": {
        "id": "hnKCCdr4otHo"
      }
    },
    {
      "cell_type": "code",
      "source": [
        "top <- function(n, ...) order(..., decreasing = T)[1:n]\n",
        "\n",
        "multisearch <- function(clientIdx, queryText) {\n",
        "  client <- data$Customer.ID[clientIdx]\n",
        "\n",
        "  # compute similarity with all other clients\n",
        "  clients.sim <- apply(tcm.lsa.c, 1, cosine, as.vector(tcm.lsa.c[client,]))\n",
        "  # exclude self\n",
        "  clients.sim <- clients.sim[order(clients.sim, decreasing = T)][-1]\n",
        "  clients.sim.df <- data.frame(clients.sim, client=names(clients.sim))\n",
        "\n",
        "  # make query and turn it into ls\n",
        "  query <- query(queryText, rownames(tdm))\n",
        "  query.ls <- as.vector(t(query) %*% tdm.lsa$tk)\n",
        "\n",
        "  # compute similarity between query and documents\n",
        "  docs.sim <- apply(tdm.lsa$dk, 1, cosine, query.ls)\n",
        "  docs.sim.df <- data.frame(docs.sim, \n",
        "    client=data$Customer.ID, \n",
        "    doc.index=names(docs.sim), \n",
        "    description=data$Product.Name,\n",
        "    discount=data$Discount)\n",
        "\n",
        "  df <- merge(clients.sim.df, docs.sim.df, by=\"client\")\n",
        "\n",
        "  # remove duplicated descriptions\n",
        "  noDupDf <- df %>% group_by(description, docs.sim, clients.sim) %>% slice_sample(n = 1)\n",
        "  top10 <- top(5, noDupDf$docs.sim, noDupDf$clients.sim)\n",
        "  return(noDupDf[top10,])\n",
        "}"
      ],
      "metadata": {
        "id": "1c0hk3rCoten"
      },
      "execution_count": 22,
      "outputs": []
    },
    {
      "cell_type": "code",
      "source": [
        "paste(\"Customer \", data$Customer.ID[1])\n",
        "multisearch(1, \"book shelf\")"
      ],
      "metadata": {
        "colab": {
          "base_uri": "https://localhost:8080/",
          "height": 272
        },
        "id": "-hbeUiY8AsZU",
        "outputId": "6931aeb0-a024-43fb-94e8-31c0e4cad9b2"
      },
      "execution_count": 23,
      "outputs": [
        {
          "output_type": "display_data",
          "data": {
            "text/html": [
              "<span style=white-space:pre-wrap>'Customer  RH-19495'</span>"
            ],
            "text/markdown": "<span style=white-space:pre-wrap>'Customer  RH-19495'</span>",
            "text/latex": "'Customer  RH-19495'",
            "text/plain": [
              "[1] \"Customer  RH-19495\""
            ]
          },
          "metadata": {}
        },
        {
          "output_type": "display_data",
          "data": {
            "text/html": [
              "<table class=\"dataframe\">\n",
              "<caption>A grouped_df: 5 × 6</caption>\n",
              "<thead>\n",
              "\t<tr><th scope=col>client</th><th scope=col>clients.sim</th><th scope=col>docs.sim</th><th scope=col>doc.index</th><th scope=col>description</th><th scope=col>discount</th></tr>\n",
              "\t<tr><th scope=col>&lt;chr&gt;</th><th scope=col>&lt;dbl&gt;</th><th scope=col>&lt;dbl&gt;</th><th scope=col>&lt;chr&gt;</th><th scope=col>&lt;chr&gt;</th><th scope=col>&lt;dbl&gt;</th></tr>\n",
              "</thead>\n",
              "<tbody>\n",
              "\t<tr><td>DP-13165</td><td>0.3982950</td><td>0.9348726</td><td>2297 </td><td>O'Sullivan Living Dimensions 5-Shelf Bookcases</td><td>0.20</td></tr>\n",
              "\t<tr><td>SS-20875</td><td>0.3664054</td><td>0.9348726</td><td>14358</td><td>O'Sullivan Living Dimensions 2-Shelf Bookcases</td><td>0.20</td></tr>\n",
              "\t<tr><td>KH-16510</td><td>0.3406097</td><td>0.9348726</td><td>6766 </td><td>O'Sullivan Living Dimensions 3-Shelf Bookcases</td><td>0.15</td></tr>\n",
              "\t<tr><td>KN-16450</td><td>0.3178151</td><td>0.9348726</td><td>12851</td><td>O'Sullivan Living Dimensions 2-Shelf Bookcases</td><td>0.15</td></tr>\n",
              "\t<tr><td>NR-18550</td><td>0.3133078</td><td>0.9348726</td><td>9977 </td><td>O'Sullivan Living Dimensions 2-Shelf Bookcases</td><td>0.00</td></tr>\n",
              "</tbody>\n",
              "</table>\n"
            ],
            "text/markdown": "\nA grouped_df: 5 × 6\n\n| client &lt;chr&gt; | clients.sim &lt;dbl&gt; | docs.sim &lt;dbl&gt; | doc.index &lt;chr&gt; | description &lt;chr&gt; | discount &lt;dbl&gt; |\n|---|---|---|---|---|---|\n| DP-13165 | 0.3982950 | 0.9348726 | 2297  | O'Sullivan Living Dimensions 5-Shelf Bookcases | 0.20 |\n| SS-20875 | 0.3664054 | 0.9348726 | 14358 | O'Sullivan Living Dimensions 2-Shelf Bookcases | 0.20 |\n| KH-16510 | 0.3406097 | 0.9348726 | 6766  | O'Sullivan Living Dimensions 3-Shelf Bookcases | 0.15 |\n| KN-16450 | 0.3178151 | 0.9348726 | 12851 | O'Sullivan Living Dimensions 2-Shelf Bookcases | 0.15 |\n| NR-18550 | 0.3133078 | 0.9348726 | 9977  | O'Sullivan Living Dimensions 2-Shelf Bookcases | 0.00 |\n\n",
            "text/latex": "A grouped\\_df: 5 × 6\n\\begin{tabular}{llllll}\n client & clients.sim & docs.sim & doc.index & description & discount\\\\\n <chr> & <dbl> & <dbl> & <chr> & <chr> & <dbl>\\\\\n\\hline\n\t DP-13165 & 0.3982950 & 0.9348726 & 2297  & O'Sullivan Living Dimensions 5-Shelf Bookcases & 0.20\\\\\n\t SS-20875 & 0.3664054 & 0.9348726 & 14358 & O'Sullivan Living Dimensions 2-Shelf Bookcases & 0.20\\\\\n\t KH-16510 & 0.3406097 & 0.9348726 & 6766  & O'Sullivan Living Dimensions 3-Shelf Bookcases & 0.15\\\\\n\t KN-16450 & 0.3178151 & 0.9348726 & 12851 & O'Sullivan Living Dimensions 2-Shelf Bookcases & 0.15\\\\\n\t NR-18550 & 0.3133078 & 0.9348726 & 9977  & O'Sullivan Living Dimensions 2-Shelf Bookcases & 0.00\\\\\n\\end{tabular}\n",
            "text/plain": [
              "  client   clients.sim docs.sim  doc.index\n",
              "1 DP-13165 0.3982950   0.9348726 2297     \n",
              "2 SS-20875 0.3664054   0.9348726 14358    \n",
              "3 KH-16510 0.3406097   0.9348726 6766     \n",
              "4 KN-16450 0.3178151   0.9348726 12851    \n",
              "5 NR-18550 0.3133078   0.9348726 9977     \n",
              "  description                                    discount\n",
              "1 O'Sullivan Living Dimensions 5-Shelf Bookcases 0.20    \n",
              "2 O'Sullivan Living Dimensions 2-Shelf Bookcases 0.20    \n",
              "3 O'Sullivan Living Dimensions 3-Shelf Bookcases 0.15    \n",
              "4 O'Sullivan Living Dimensions 2-Shelf Bookcases 0.15    \n",
              "5 O'Sullivan Living Dimensions 2-Shelf Bookcases 0.00    "
            ]
          },
          "metadata": {}
        }
      ]
    },
    {
      "cell_type": "code",
      "source": [
        "paste(\"Customer \", data$Customer.ID[2])\n",
        "multisearch(2, \"book shelf\")"
      ],
      "metadata": {
        "colab": {
          "base_uri": "https://localhost:8080/",
          "height": 272
        },
        "id": "CUjB3WGE_6G1",
        "outputId": "e0bbf00d-6a00-48b3-9fcf-8bab74d29deb"
      },
      "execution_count": 24,
      "outputs": [
        {
          "output_type": "display_data",
          "data": {
            "text/html": [
              "<span style=white-space:pre-wrap>'Customer  JR-16210'</span>"
            ],
            "text/markdown": "<span style=white-space:pre-wrap>'Customer  JR-16210'</span>",
            "text/latex": "'Customer  JR-16210'",
            "text/plain": [
              "[1] \"Customer  JR-16210\""
            ]
          },
          "metadata": {}
        },
        {
          "output_type": "display_data",
          "data": {
            "text/html": [
              "<table class=\"dataframe\">\n",
              "<caption>A grouped_df: 5 × 6</caption>\n",
              "<thead>\n",
              "\t<tr><th scope=col>client</th><th scope=col>clients.sim</th><th scope=col>docs.sim</th><th scope=col>doc.index</th><th scope=col>description</th><th scope=col>discount</th></tr>\n",
              "\t<tr><th scope=col>&lt;chr&gt;</th><th scope=col>&lt;dbl&gt;</th><th scope=col>&lt;dbl&gt;</th><th scope=col>&lt;chr&gt;</th><th scope=col>&lt;chr&gt;</th><th scope=col>&lt;dbl&gt;</th></tr>\n",
              "</thead>\n",
              "<tbody>\n",
              "\t<tr><td>DP-13165</td><td>0.4519056</td><td>0.9348726</td><td>2297 </td><td>O'Sullivan Living Dimensions 5-Shelf Bookcases</td><td>0.20</td></tr>\n",
              "\t<tr><td>KH-16510</td><td>0.3907061</td><td>0.9348726</td><td>6766 </td><td>O'Sullivan Living Dimensions 3-Shelf Bookcases</td><td>0.15</td></tr>\n",
              "\t<tr><td>KN-16450</td><td>0.3694181</td><td>0.9348726</td><td>12851</td><td>O'Sullivan Living Dimensions 2-Shelf Bookcases</td><td>0.15</td></tr>\n",
              "\t<tr><td>AH-10465</td><td>0.3318349</td><td>0.9348726</td><td>2358 </td><td>O'Sullivan Living Dimensions 5-Shelf Bookcases</td><td>0.32</td></tr>\n",
              "\t<tr><td>AS-10090</td><td>0.3247304</td><td>0.9348726</td><td>7085 </td><td>O'Sullivan Living Dimensions 5-Shelf Bookcases</td><td>0.20</td></tr>\n",
              "</tbody>\n",
              "</table>\n"
            ],
            "text/markdown": "\nA grouped_df: 5 × 6\n\n| client &lt;chr&gt; | clients.sim &lt;dbl&gt; | docs.sim &lt;dbl&gt; | doc.index &lt;chr&gt; | description &lt;chr&gt; | discount &lt;dbl&gt; |\n|---|---|---|---|---|---|\n| DP-13165 | 0.4519056 | 0.9348726 | 2297  | O'Sullivan Living Dimensions 5-Shelf Bookcases | 0.20 |\n| KH-16510 | 0.3907061 | 0.9348726 | 6766  | O'Sullivan Living Dimensions 3-Shelf Bookcases | 0.15 |\n| KN-16450 | 0.3694181 | 0.9348726 | 12851 | O'Sullivan Living Dimensions 2-Shelf Bookcases | 0.15 |\n| AH-10465 | 0.3318349 | 0.9348726 | 2358  | O'Sullivan Living Dimensions 5-Shelf Bookcases | 0.32 |\n| AS-10090 | 0.3247304 | 0.9348726 | 7085  | O'Sullivan Living Dimensions 5-Shelf Bookcases | 0.20 |\n\n",
            "text/latex": "A grouped\\_df: 5 × 6\n\\begin{tabular}{llllll}\n client & clients.sim & docs.sim & doc.index & description & discount\\\\\n <chr> & <dbl> & <dbl> & <chr> & <chr> & <dbl>\\\\\n\\hline\n\t DP-13165 & 0.4519056 & 0.9348726 & 2297  & O'Sullivan Living Dimensions 5-Shelf Bookcases & 0.20\\\\\n\t KH-16510 & 0.3907061 & 0.9348726 & 6766  & O'Sullivan Living Dimensions 3-Shelf Bookcases & 0.15\\\\\n\t KN-16450 & 0.3694181 & 0.9348726 & 12851 & O'Sullivan Living Dimensions 2-Shelf Bookcases & 0.15\\\\\n\t AH-10465 & 0.3318349 & 0.9348726 & 2358  & O'Sullivan Living Dimensions 5-Shelf Bookcases & 0.32\\\\\n\t AS-10090 & 0.3247304 & 0.9348726 & 7085  & O'Sullivan Living Dimensions 5-Shelf Bookcases & 0.20\\\\\n\\end{tabular}\n",
            "text/plain": [
              "  client   clients.sim docs.sim  doc.index\n",
              "1 DP-13165 0.4519056   0.9348726 2297     \n",
              "2 KH-16510 0.3907061   0.9348726 6766     \n",
              "3 KN-16450 0.3694181   0.9348726 12851    \n",
              "4 AH-10465 0.3318349   0.9348726 2358     \n",
              "5 AS-10090 0.3247304   0.9348726 7085     \n",
              "  description                                    discount\n",
              "1 O'Sullivan Living Dimensions 5-Shelf Bookcases 0.20    \n",
              "2 O'Sullivan Living Dimensions 3-Shelf Bookcases 0.15    \n",
              "3 O'Sullivan Living Dimensions 2-Shelf Bookcases 0.15    \n",
              "4 O'Sullivan Living Dimensions 5-Shelf Bookcases 0.32    \n",
              "5 O'Sullivan Living Dimensions 5-Shelf Bookcases 0.20    "
            ]
          },
          "metadata": {}
        }
      ]
    },
    {
      "cell_type": "markdown",
      "source": [
        "Searching for discount rates on customer $1$ and customer $2$ gives us different results. Even though some customers are shared between the two, and so are some discount rates, additional insights are provided by the retrieved results."
      ],
      "metadata": {
        "id": "W8zPrK49AfLR"
      }
    },
    {
      "cell_type": "markdown",
      "source": [
        "The methodology provided above can be expanded in many ways, for instance one might follow the same rationale and compute similarity between customers areas.\n",
        "\n",
        "And further expanding on it instead of naively sorting results by similarities one might combine the similarity results in different ways and learns how much each score should be weighted. In order to do that a supervised learning method needs to be employed.\n",
        "One could approach such task by taking each discounted item in the dataset as training sample and the corresponding discount as target. Optimizing the scoring weights would then minimize the distance between the top-k retrieved results and the actual discount."
      ],
      "metadata": {
        "id": "fjMnC9flBbsS"
      }
    }
  ]
}